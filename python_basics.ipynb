{
 "cells": [
  {
   "cell_type": "markdown",
   "metadata": {},
   "source": [
    "# Python Basics and Intermediate"
   ]
  },
  {
   "cell_type": "markdown",
   "metadata": {},
   "source": [
    "### Variables and Data Types"
   ]
  },
  {
   "cell_type": "code",
   "execution_count": 1,
   "metadata": {},
   "outputs": [],
   "source": [
    "# Variables\n",
    "x = 5\n",
    "y = \"Hello, World!\"\n",
    "\n",
    "# Data Types\n",
    "int_num = 10        # Integer\n",
    "float_num = 20.5    # Float\n",
    "complex_num = 1j    # Complex\n",
    "name = \"Alice\"      # String\n",
    "is_active = True    # Boolean\n",
    "fruits = [\"apple\", \"banana\", \"cherry\"]  # List\n",
    "points = (1, 2, 3)  # Tuple\n",
    "person = {\"name\": \"John\", \"age\": 36}    # Dictionary"
   ]
  },
  {
   "cell_type": "markdown",
   "metadata": {},
   "source": [
    "### Basic Operations"
   ]
  },
  {
   "cell_type": "code",
   "execution_count": 2,
   "metadata": {},
   "outputs": [
    {
     "name": "stdout",
     "output_type": "stream",
     "text": [
      "Sum: 8\n",
      "Difference: 8\n",
      "Product: 8\n",
      "Quotient: 5.0\n",
      "Power: 8\n",
      "\n",
      "-----\n",
      "\n",
      "Is a equal to b? False\n",
      "Is a not equal to b? True\n",
      "Is a greater than b? False\n",
      "Is a less than b? True\n"
     ]
    }
   ],
   "source": [
    "# Arithmetic Operations (calculations with numbers)\n",
    "\n",
    "sum_result = 5 + 3         # Addition: calculates the sum of 5 and 3\n",
    "diff_result = 10 - 2       # Subtraction: calculates the difference between 10 and 2\n",
    "product_result = 4 * 2     # Multiplication: calculates the product of 4 and 2\n",
    "quotient_result = 15 / 3   # Division: calculates the quotient of 15 divided by 3\n",
    "power_result = 2 ** 3      # Exponentiation: calculates 2 raised to the power of 3 (2 cubed)\n",
    "\n",
    "# Print results with clear labels\n",
    "print(\"Sum:\", sum_result)           \n",
    "print(\"Difference:\", diff_result)    \n",
    "print(\"Product:\", product_result)\n",
    "print(\"Quotient:\", quotient_result)\n",
    "print(\"Power:\", power_result)\n",
    "\n",
    "print(\"\\n-----\\n\")  # Separator for visual clarity\n",
    "\n",
    "# Comparison Operations (checking relationships between values)\n",
    "\n",
    "a = 2\n",
    "b = 3\n",
    "\n",
    "# Check equality (are the values the same?)\n",
    "is_equal = a == b\n",
    "print(\"Is a equal to b?\", is_equal)  \n",
    "\n",
    "# Check inequality (are the values different?)\n",
    "is_not_equal = a != b\n",
    "print(\"Is a not equal to b?\", is_not_equal) \n",
    "\n",
    "# Check greater than (is the first value larger?)\n",
    "is_greater = a > b\n",
    "print(\"Is a greater than b?\", is_greater)  \n",
    "\n",
    "# Check less than (is the first value smaller?)\n",
    "is_less = a < b\n",
    "print(\"Is a less than b?\", is_less)"
   ]
  },
  {
   "cell_type": "markdown",
   "metadata": {},
   "source": [
    "### If-Else Statements"
   ]
  },
  {
   "cell_type": "code",
   "execution_count": 3,
   "metadata": {},
   "outputs": [
    {
     "name": "stdout",
     "output_type": "stream",
     "text": [
      "10 is greater than 5\n"
     ]
    }
   ],
   "source": [
    "x = 10      # Example values\n",
    "y = 5\n",
    "\n",
    "# Check the relationship between x and y\n",
    "if x > y:\n",
    "    print(f\"{x} is greater than {y}\")  # Use f-strings for clear output\n",
    "elif x == y:\n",
    "    print(f\"{x} is equal to {y}\")\n",
    "else:\n",
    "    print(f\"{x} is less than {y}\")\n"
   ]
  },
  {
   "cell_type": "markdown",
   "metadata": {},
   "source": [
    "#### Explanation:\n",
    "Assign Values: Set x to 10 and y to 5 (you can change these). <br>\n",
    "Conditional Checks: <br>\n",
    "if x > y: If x is greater than y, print the first message. <br>\n",
    "elif x == y: If x is equal to y, print the second message. <br>\n",
    "else: If neither of the above is true, x must be less than y, so print the third message."
   ]
  },
  {
   "cell_type": "markdown",
   "metadata": {},
   "source": [
    "### Loops"
   ]
  },
  {
   "cell_type": "code",
   "execution_count": 4,
   "metadata": {},
   "outputs": [
    {
     "name": "stdout",
     "output_type": "stream",
     "text": [
      "For Loop:\n",
      "- apple\n",
      "- banana\n",
      "- orange\n",
      "\n",
      "-----\n",
      "\n",
      "While Loop:\n",
      "0\n",
      "1\n",
      "2\n",
      "3\n",
      "4\n"
     ]
    }
   ],
   "source": [
    "fruits = [\"apple\", \"banana\", \"orange\"]  # Example list\n",
    "\n",
    "# For Loop (iterate over items in a sequence)\n",
    "print(\"For Loop:\")\n",
    "for fruit in fruits:\n",
    "    print(f\"- {fruit}\")  # Nicely formatted output\n",
    "\n",
    "print(\"\\n-----\\n\") # Separator\n",
    "\n",
    "# While Loop (repeat as long as a condition is true)\n",
    "print(\"While Loop:\")\n",
    "i = 0\n",
    "while i < 5:\n",
    "    print(i)\n",
    "    i += 1  # Increment i by 1 in each iteration"
   ]
  },
  {
   "cell_type": "markdown",
   "metadata": {},
   "source": [
    "#### Explanation:\n",
    "#### For Loop:\n",
    "fruits = [\"apple\", \"banana\", \"orange\"]: Creates a list of fruits. <br>\n",
    "for fruit in fruits:: This iterates over each item (fruit) in the fruits list. <br>\n",
    "print(f\"- {fruit}\"): Prints each fruit with a dash for better readability. <br>\n",
    "#### While Loop:\n",
    "i = 0: Initializes a counter variable i. <br>\n",
    "while i < 5:: Repeats as long as i is less than 5. <br>\n",
    "print(i): Prints the current value of i. <br>\n",
    "i += 1: Increases i by 1 after each iteration. This ensures the loop eventually ends. <br>"
   ]
  },
  {
   "cell_type": "markdown",
   "metadata": {},
   "source": [
    "##### "
   ]
  },
  {
   "cell_type": "markdown",
   "metadata": {},
   "source": [
    "### Functions"
   ]
  },
  {
   "cell_type": "markdown",
   "metadata": {},
   "source": [
    "#### What are Functions?\n",
    "\n",
    "Think of a function as a reusable block of code that performs a specific task. It's like a mini-program within your larger program. Functions help you organize your code, make it more readable, and avoid repetition.\n",
    "\n",
    "#### Why Use Functions?\n",
    "\n",
    "**Modularity:** Functions break down complex problems into smaller, manageable chunks. This makes your code easier to understand, test, and maintain. <br>\n",
    "**Reusability:** Instead of writing the same code multiple times, you can define a function once and call it whenever you need to perform that specific task.<br>\n",
    "**Abstraction:** Functions hide the details of how a task is accomplished. You only need to know what the function does, not the underlying implementation. <br>\n",
    "**Readability:** Functions make your code more self-explanatory. When you see a function call like greet(\"Alice\"), you instantly understand its purpose.<br>"
   ]
  },
  {
   "cell_type": "code",
   "execution_count": 5,
   "metadata": {},
   "outputs": [
    {
     "name": "stdout",
     "output_type": "stream",
     "text": [
      "Hello, Alice!\n",
      "Hello, Bob!\n",
      "Hello, Eve!\n"
     ]
    }
   ],
   "source": [
    "def greet(name):  # Function definition (takes 'name' as input)\n",
    "    \"\"\"Greets a person by their name.\"\"\"  # Docstring: explains the function's purpose\n",
    "    return f\"Hello, {name}!\"  # Returns the personalized greeting\n",
    "\n",
    "# Call the 'greet' function with different names\n",
    "print(greet(\"Alice\"))    \n",
    "print(greet(\"Bob\"))\n",
    "print(greet(\"Eve\"))"
   ]
  },
  {
   "cell_type": "markdown",
   "metadata": {},
   "source": [
    "#### Explanation:\n",
    "\n",
    "#### 1. Definition \"def greet(name):\": This line defines the function. <br>\n",
    "* def: The keyword to start a function definition. <br>\n",
    "* greet: The name of the function (you can choose any meaningful name). <br>\n",
    "* (name): The parameter that the function accepts. This function expects a string representing a name. <br>\n",
    "* : Indicates the beginning of the function's code block.\n",
    "\n",
    "#### 2. Return Statement \"return f\"Hello, {name}!\"\": <br>\n",
    "\n",
    "* return: The keyword that sends a value back to the place where the function was called.\n",
    "* f\"Hello, {name}!\": This is an f-string (formatted string literal). It embeds the value of the name parameter into the greeting message.\n",
    "\n",
    "#### 3. Function Call \"print(greet(\"Alice\"))\": <br>\n",
    "\n",
    "*  greet(\"Alice\"): This calls the greet function, passing the string \"Alice\" as an argument. The function executes, replacing {name} with \"Alice\" and  returning \"Hello, Alice!\".\n",
    "* print(...): The print function then displays the returned message."
   ]
  },
  {
   "cell_type": "markdown",
   "metadata": {},
   "source": [
    "#####"
   ]
  },
  {
   "cell_type": "markdown",
   "metadata": {},
   "source": [
    "### What is Input/Output?\n",
    "\n",
    "In simple terms: <br>\n",
    "\n",
    "**Input:** Your program getting information from the outside world (e.g., the user typing on the keyboard). <br>\n",
    "**Output:** Your program displaying information to the user (e.g., showing text on the screen).<br>"
   ]
  },
  {
   "cell_type": "code",
   "execution_count": 8,
   "metadata": {},
   "outputs": [
    {
     "name": "stdin",
     "output_type": "stream",
     "text": [
      "Please enter your name:  India\n"
     ]
    },
    {
     "name": "stdout",
     "output_type": "stream",
     "text": [
      "Hello, India! It's a pleasure to meet you.\n"
     ]
    }
   ],
   "source": [
    "# Get input from the user\n",
    "name = input(\"Please enter your name: \") \n",
    "\n",
    "# Display a personalized greeting\n",
    "print(f\"Hello, {name}! It's a pleasure to meet you.\") "
   ]
  },
  {
   "cell_type": "markdown",
   "metadata": {},
   "source": [
    "#### Key Points\n",
    "\n",
    "Python treats all input from input() as strings. <br>\n",
    "If you need the user to enter numbers, you'll need to convert the input using functions like int() or float(). <br>\n",
    "You can use input() to get any kind of information from the user, not just names. <br>\n",
    "You can use print() to display anything: text, numbers, results of calculations, etc. <br>"
   ]
  },
  {
   "cell_type": "markdown",
   "metadata": {},
   "source": [
    "#### Explanation\n",
    "1. input(\"Enter your name: \"):\n",
    "   * input(...): This is a built-in Python function that:\n",
    "       - Displays the prompt message \"Enter your name: \" to the user.\n",
    "       - Pauses the program and waits for the user to type something and press Enter.\n",
    "       - Returns the user's input as a string (even if they type numbers).\n",
    "   * name = ...: This stores the string returned by input into a variable named name. Think of a variable as a container that can hold a value. \n",
    "3. print(f\"Hello, {name}!\"):\n",
    "   * print(...): Another built-in function that displays text on the screen.\n",
    "   * f\"Hello, {name}!\": This is an f-string (formatted string literal). It allows you to embed variables directly into strings.\n",
    "     In this case:\n",
    "     - \"Hello, \" is a static part of the message.\n",
    "     - {name} is replaced with the actual value stored in the name variable (what the user typed).\n",
    "     - ! is another static part of the message."
   ]
  },
  {
   "cell_type": "markdown",
   "metadata": {},
   "source": [
    "#####"
   ]
  },
  {
   "cell_type": "markdown",
   "metadata": {},
   "source": [
    "### List Comprehensions"
   ]
  },
  {
   "cell_type": "markdown",
   "metadata": {},
   "source": [
    "List comprehension is a concise and elegant way to create lists in Python. It allows you to define a new list by applying an expression to each item in an existing sequence (like a list, range, or string) and optionally filtering the items based on a condition.\n",
    "\n",
    "#### Key Points About List Comprehensions\n",
    "**Concise:** List comprehensions are often much shorter and more readable than equivalent code using loops. <br>\n",
    "**Efficient:** They can be faster than traditional loops in some cases, especially for large datasets. <br>\n",
    "**Versatile:** You can use list comprehensions to perform various operations like filtering, mapping, and even nesting. <br>\n",
    "**Syntax:** The general structure of a list comprehension is: <br>\n",
    "\n",
    "##### <code>[expression for item in iterable if condition]<code>\n",
    "\n",
    "**expression:** The operation you want to perform on each item. <br>\n",
    "**item:** The variable representing each element in the iterable.<br>\n",
    "**iterable:** The sequence you're iterating over (list, range, etc.).<br>\n",
    "**if condition (optional):** Filters the items, including only those that meet the condition.<br>"
   ]
  },
  {
   "cell_type": "code",
   "execution_count": 9,
   "metadata": {},
   "outputs": [
    {
     "name": "stdout",
     "output_type": "stream",
     "text": [
      "Squares: [0, 1, 4, 9, 16, 25, 36, 49, 64, 81]\n",
      "\n",
      "-----\n",
      "\n",
      "Even numbers: [0, 2, 4, 6, 8]\n"
     ]
    }
   ],
   "source": [
    "# Basic List Comprehension (Creating squares of numbers 0 to 9)\n",
    "squares = [x**2 for x in range(10)]\n",
    "\n",
    "# Explanation:\n",
    "# - range(10): Generates a sequence of numbers from 0 to 9.\n",
    "# - x**2: The expression that calculates the square of each number x.\n",
    "# - [x**2 for x in range(10)]: This creates a new list where each element is the result of squaring the corresponding number from the range.\n",
    "\n",
    "print(\"Squares:\", squares) \n",
    "\n",
    "print(\"\\n-----\\n\") # Separator\n",
    "\n",
    "# Conditional List Comprehension (Creating a list of even numbers)\n",
    "evens = [x for x in range(10) if x % 2 == 0]\n",
    "\n",
    "# Explanation:\n",
    "# - range(10): Generates a sequence of numbers from 0 to 9.\n",
    "# - x % 2 == 0: The condition that checks if a number x is even (divisible by 2 with no remainder).\n",
    "# - [x for x in range(10) if x % 2 == 0]: This creates a new list containing only the even numbers from the range.\n",
    "\n",
    "print(\"Even numbers:\", evens)"
   ]
  },
  {
   "cell_type": "code",
   "execution_count": 10,
   "metadata": {},
   "outputs": [],
   "source": [
    "# Double all the numbers in a list\n",
    "numbers = [1, 2, 3, 4]\n",
    "doubled = [x * 2 for x in numbers]\n",
    "\n",
    "# Filter out negative numbers\n",
    "negatives = [-1, 5, -3, 2]\n",
    "positives = [x for x in negatives if x >= 0]\n",
    "\n",
    "# Extract the first letter of each word in a sentence\n",
    "sentence = \"This is a sentence\"\n",
    "first_letters = [word[0] for word in sentence.split()]"
   ]
  },
  {
   "cell_type": "markdown",
   "metadata": {},
   "source": [
    "### Lambda Functions and Map, Filter, Reduce"
   ]
  },
  {
   "cell_type": "markdown",
   "metadata": {},
   "source": [
    "#### Lambda Functions\n",
    "Small, anonymous functions (no name) defined using the lambda keyword. <br>\n",
    "**Syntax:** <code>lambda arguments: expression<code><br>\n",
    "\n",
    "**Use Cases:** Ideal for simple operations you need to perform on the fly, often used with map, filter, and reduce. <br>"
   ]
  },
  {
   "cell_type": "code",
   "execution_count": 11,
   "metadata": {},
   "outputs": [
    {
     "name": "stdout",
     "output_type": "stream",
     "text": [
      "2 + 3 = 5\n"
     ]
    }
   ],
   "source": [
    "# Define a lambda function that adds two numbers\n",
    "add = lambda a, b: a + b\n",
    "\n",
    "# Call the lambda function and print the result\n",
    "result = add(2, 3)\n",
    "print(f\"2 + 3 = {result}\") "
   ]
  },
  {
   "cell_type": "markdown",
   "metadata": {},
   "source": [
    "#### Map\n",
    "Applies a function to each item in an iterable (list, tuple, etc.) and returns a new iterable with the results. <br>"
   ]
  },
  {
   "cell_type": "code",
   "execution_count": 12,
   "metadata": {},
   "outputs": [
    {
     "name": "stdout",
     "output_type": "stream",
     "text": [
      "Original numbers: [1, 2, 3, 4, 5]\n",
      "Squared numbers: [1, 4, 9, 16, 25]\n"
     ]
    }
   ],
   "source": [
    "numbers = [1, 2, 3, 4, 5]\n",
    "\n",
    "# Square each number using map and a lambda function\n",
    "squared_numbers = list(map(lambda x: x**2, numbers))  \n",
    "\n",
    "print(\"Original numbers:\", numbers)\n",
    "print(\"Squared numbers:\", squared_numbers)"
   ]
  },
  {
   "cell_type": "markdown",
   "metadata": {},
   "source": [
    "#### Filter\n",
    "Selects elements from an iterable based on a condition (specified by a function) and returns a new iterable containing only the elements that pass the filter. <br>"
   ]
  },
  {
   "cell_type": "code",
   "execution_count": 13,
   "metadata": {},
   "outputs": [
    {
     "name": "stdout",
     "output_type": "stream",
     "text": [
      "Original numbers: [1, 2, 3, 4, 5]\n",
      "Even numbers: [2, 4]\n"
     ]
    }
   ],
   "source": [
    "numbers = [1, 2, 3, 4, 5]\n",
    "\n",
    "# Filter out even numbers using filter and a lambda function\n",
    "even_numbers = list(filter(lambda x: x % 2 == 0, numbers)) \n",
    "\n",
    "print(\"Original numbers:\", numbers)\n",
    "print(\"Even numbers:\", even_numbers)"
   ]
  },
  {
   "cell_type": "markdown",
   "metadata": {},
   "source": [
    "#### Reduce\n",
    "Combines all elements of an iterable into a single value by repeatedly applying a function that takes two arguments. <br>\n",
    "Calculate aggregate values like sum, product, or perform other cumulative operations. <br>\n",
    "**Note:** You need to import reduce from the functools module as it's not directly built-in.<br>"
   ]
  },
  {
   "cell_type": "code",
   "execution_count": 14,
   "metadata": {},
   "outputs": [
    {
     "name": "stdout",
     "output_type": "stream",
     "text": [
      "Original numbers: [1, 2, 3, 4, 5]\n",
      "Product: 120\n"
     ]
    }
   ],
   "source": [
    "from functools import reduce  # Import the reduce function\n",
    "\n",
    "numbers = [1, 2, 3, 4, 5]\n",
    "\n",
    "# Calculate the product of all numbers using reduce and a lambda function\n",
    "product = reduce(lambda x, y: x * y, numbers) \n",
    "\n",
    "print(\"Original numbers:\", numbers)\n",
    "print(\"Product:\", product)  # Output: Product: 120"
   ]
  },
  {
   "cell_type": "code",
   "execution_count": 15,
   "metadata": {},
   "outputs": [
    {
     "name": "stdout",
     "output_type": "stream",
     "text": [
      "Original numbers: [1, 2, 3, 4, 5, 6, 7, 8, 9, 10]\n",
      "Squared numbers: [1, 4, 9, 16, 25, 36, 49, 64, 81, 100]\n",
      "Even squared numbers: [4, 16, 36, 64, 100]\n",
      "Sum of even squared numbers: 220\n"
     ]
    }
   ],
   "source": [
    "# Create a list of numbers\n",
    "numbers = list(range(1, 11))  # Numbers 1 to 10\n",
    "\n",
    "# 1. Square each number\n",
    "squared = list(map(lambda x: x**2, numbers))\n",
    "\n",
    "# 2. Filter even squared numbers\n",
    "even_squares = list(filter(lambda x: x % 2 == 0, squared))\n",
    "\n",
    "# 3. Sum the even squared numbers\n",
    "sum_of_even_squares = reduce(lambda x, y: x + y, even_squares)\n",
    "\n",
    "print(\"Original numbers:\", numbers)\n",
    "print(\"Squared numbers:\", squared)\n",
    "print(\"Even squared numbers:\"b, even_squares)\n",
    "print(\"Sum of even squared numbers:\", sum_of_even_squares)"
   ]
  },
  {
   "cell_type": "markdown",
   "metadata": {},
   "source": [
    "#####"
   ]
  },
  {
   "cell_type": "markdown",
   "metadata": {},
   "source": [
    "###  File I/O\n",
    "File I/O is how your Python program interacts with files stored on your computer.<br>\n",
    "You can read data from existing files, write data to new or existing files, and even modify the contents of files."
   ]
  },
  {
   "cell_type": "code",
   "execution_count": 16,
   "metadata": {},
   "outputs": [
    {
     "name": "stdout",
     "output_type": "stream",
     "text": [
      "\n",
      "-----\n",
      "\n",
      "Hello, World!\n",
      "\n"
     ]
    }
   ],
   "source": [
    "# Writing to a File\n",
    "with open('example.txt', 'w') as file:\n",
    "    file.write(\"Hello, World!\\n\")  # Add a newline for better formatting\n",
    "\n",
    "# Explanation:\n",
    "# - open('example.txt', 'w'): Opens the file 'example.txt' in write mode ('w').\n",
    "#   If the file doesn't exist, it's created. If it does exist, its contents are overwritten.\n",
    "# - as file: This creates a file object named 'file' that you use to interact with the opened file.\n",
    "# - file.write(\"Hello, World!\\n\"): Writes the text to the file.\n",
    "# - with open(...): The 'with' statement automatically closes the file when you're done, even if an error occurs.\n",
    "\n",
    "print(\"\\n-----\\n\") # Separator\n",
    "\n",
    "# Reading from a File\n",
    "with open('example.txt', 'r') as file:  # Open in read mode ('r')\n",
    "    content = file.read()              # Read the entire file contents into the 'content' variable\n",
    "    print(content)\n",
    "\n",
    "# Explanation:\n",
    "# - open('example.txt', 'r'): Opens the file in read mode ('r').\n",
    "# - file.read(): Reads the entire content of the file into a string.\n",
    "# - print(content): Displays the content on the screen.\n"
   ]
  },
  {
   "cell_type": "markdown",
   "metadata": {},
   "source": [
    "#### Key Points and Best Practices\n",
    "##### File Modes:\n",
    "**'w' (write):** Overwrites existing content or creates a new file if it doesn't exist. <br>\n",
    "**'r' (read):** Opens an existing file for reading.<br>\n",
    "**'a' (append):** Adds new content to the end of an existing file. <br>\n",
    "**'x' (exclusive creation):** Creates a new file, but fails if the file already exists. <br>\n",
    "**'r+' (read and write):** Opens an existing file for both reading and writing.<br>"
   ]
  },
  {
   "cell_type": "markdown",
   "metadata": {},
   "source": [
    "**Error Handling (try-except):** It's good practice to wrap file operations in a try-except block to catch and handle potential errors (like the file not existing)."
   ]
  },
  {
   "cell_type": "code",
   "execution_count": 17,
   "metadata": {},
   "outputs": [
    {
     "name": "stdout",
     "output_type": "stream",
     "text": [
      "Hello, World!\n",
      "\n"
     ]
    }
   ],
   "source": [
    "try:\n",
    "    with open('example.txt', 'r') as file:\n",
    "        content = file.read()\n",
    "        print(content)\n",
    "except FileNotFoundError:\n",
    "    print(\"Error: The file was not found.\")\n",
    "except PermissionError:\n",
    "    print(\"Error: You don't have permission to access this file.\")"
   ]
  },
  {
   "cell_type": "markdown",
   "metadata": {},
   "source": [
    "#### Additional File Operations\n",
    "\n",
    "**file.readline():** Reads a single line from the file.<br>\n",
    "**file.readlines():** Reads all lines into a list of strings.<br>\n",
    "**file.writelines(lines):** Writes a list of strings to the file.<br>\n",
    "**for line in file:** Conveniently iterates over the lines of a file. <br>"
   ]
  },
  {
   "cell_type": "markdown",
   "metadata": {},
   "source": [
    "### Code Examples"
   ]
  },
  {
   "cell_type": "markdown",
   "metadata": {},
   "source": [
    "#### Calculator"
   ]
  },
  {
   "cell_type": "code",
   "execution_count": 22,
   "metadata": {},
   "outputs": [
    {
     "name": "stdout",
     "output_type": "stream",
     "text": [
      "15\n",
      "5\n",
      "50\n",
      "2.0\n"
     ]
    }
   ],
   "source": [
    "def add(a, b):\n",
    "  \"\"\"Adds two numbers.\"\"\"\n",
    "  return a + b\n",
    "\n",
    "def subtract(a, b):\n",
    "  \"\"\"Subtracts two numbers.\"\"\"\n",
    "  return a - b\n",
    "\n",
    "def multiply(a, b):\n",
    "  \"\"\"Multiplies two numbers.\"\"\"\n",
    "  return a * b\n",
    "\n",
    "def divide(a, b):\n",
    "  \"\"\"Divides two numbers, handling division by zero.\"\"\"\n",
    "  if b != 0:\n",
    "    return a / b\n",
    "  else:\n",
    "    return \"Cannot divide by zero\"\n",
    "\n",
    "# Perform calculations and print results\n",
    "print(add(10, 5))      \n",
    "print(subtract(10, 5))   \n",
    "print(multiply(10, 5)) \n",
    "print(divide(10, 5))  "
   ]
  },
  {
   "cell_type": "markdown",
   "metadata": {},
   "source": [
    "#### Prime Number Checker"
   ]
  },
  {
   "cell_type": "code",
   "execution_count": 23,
   "metadata": {},
   "outputs": [
    {
     "name": "stdout",
     "output_type": "stream",
     "text": [
      "True\n",
      "False\n",
      "True\n",
      "False\n"
     ]
    }
   ],
   "source": [
    "def is_prime(num):\n",
    "    \"\"\"Checks if a number is prime.\n",
    "\n",
    "    Args:\n",
    "        num: The number to check.\n",
    "\n",
    "    Returns:\n",
    "        True if the number is prime, False otherwise.\n",
    "    \"\"\"\n",
    "\n",
    "    # Numbers less than or equal to 1 are not prime\n",
    "    if num <= 1:\n",
    "        return False\n",
    "\n",
    "    # Optimization: Only check up to the square root of num\n",
    "    for i in range(2, int(num**0.5) + 1):\n",
    "        if num % i == 0: \n",
    "            return False  # Found a divisor, not prime\n",
    "    \n",
    "    return True  # No divisors found, it's prime\n",
    "\n",
    "\n",
    "# Test cases\n",
    "print(is_prime(29))   # Output: True (29 is prime)\n",
    "print(is_prime(15))   # Output: False (15 is not prime, divisible by 3 and 5)\n",
    "print(is_prime(2))    # Output: True (2 is prime)\n",
    "print(is_prime(1))    # Output: False (1 is not prime)"
   ]
  }
 ],
 "metadata": {
  "kernelspec": {
   "display_name": "Python 3 (ipykernel)",
   "language": "python",
   "name": "python3"
  },
  "language_info": {
   "codemirror_mode": {
    "name": "ipython",
    "version": 3
   },
   "file_extension": ".py",
   "mimetype": "text/x-python",
   "name": "python",
   "nbconvert_exporter": "python",
   "pygments_lexer": "ipython3",
   "version": "3.10.12"
  }
 },
 "nbformat": 4,
 "nbformat_minor": 4
}
